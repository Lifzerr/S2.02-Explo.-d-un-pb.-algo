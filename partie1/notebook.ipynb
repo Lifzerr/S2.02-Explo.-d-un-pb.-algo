{
 "cells": [
  {
   "cell_type": "markdown",
   "id": "ff54a69c-b512-4f7d-8544-0950fb16d1bd",
   "metadata": {},
   "source": [
    "# S2.02 - Exploration algorithmique d'un problème\n",
    "\n",
    "### BERHO Andoni\n",
    "### BOURCIEZ Maxime\n",
    "### TEXEIRA Jonathan\n",
    "### TD II - TP 3\n",
    "\n",
    "## Chemins piétons dans Bayonne"
   ]
  },
  {
   "cell_type": "markdown",
   "id": "008a9588-7da0-451e-b479-55356afec710",
   "metadata": {},
   "source": [
    "## Importation des données et des bibliothèques nécéssaires"
   ]
  },
  {
   "cell_type": "code",
   "execution_count": 131,
   "id": "7000c4a5-21e8-4f6c-867f-364a11af82af",
   "metadata": {},
   "outputs": [],
   "source": [
    "import pandas as pd\n",
    "import matplotlib.pyplot as plt\n",
    "from math import pi, cos, acos, sin, asin\n",
    "import timeit\n",
    "import numpy as np\n",
    "\n",
    "# os.chdir(\" \") \n",
    "# Si jamais vous chosissez de ranger vos fichiers csv dans un autre dossier\n",
    "\n",
    "# Importation des données\n",
    "points = pd.read_csv(\"points.csv\", encoding=\"ANSI\", sep=\";\", index_col='id_point')\n",
    "arcs = pd.read_csv(\"arcs.csv\", encoding=\"ANSI\", sep=\";\", index_col='id_arc')"
   ]
  },
  {
   "cell_type": "markdown",
   "id": "52ed8e40-ae45-472e-821d-8c2b38639bbf",
   "metadata": {},
   "source": [
    "# Récupération des listes sous forme de listes d'entiers"
   ]
  },
  {
   "cell_type": "markdown",
   "id": "3058789e-6ce4-4781-a50b-43c8fdea9621",
   "metadata": {},
   "source": [
    "#### Dans cette boucle, nous allons aussi créer une colonne contenant le sommet de départ de l'arc, et celui d'arrivée. Ceci nous servira à trier les arcs pour garder uniquement ceux qui nous seront utiles, mais nous garderons les listes originelles afin de pouvoir calculer le poids exact."
   ]
  },
  {
   "cell_type": "code",
   "execution_count": 132,
   "id": "f9f47917-cb56-4104-9145-bdb6b1a76b98",
   "metadata": {},
   "outputs": [],
   "source": [
    "# Ajout des nouvelles colonnes\n",
    "arcs['listePoints'] = None\n",
    "arcs['sommetDepart'] = None\n",
    "arcs['sommetArrivee'] = None\n",
    "arcs['numeroSommetDepart'] = None\n",
    "arcs['numeroSommetArrivee'] = None\n",
    "\n",
    "# Création des variables temporaires\n",
    "tempoInt = ''\n",
    "tempoString = 0\n",
    "tempoList = []\n",
    "\n",
    "\n",
    "# Transformation de la chaine de caractère en liste réelle,\n",
    "# Puis sélection des sommets de départs etr d'arrivée dans tous les arcs\n",
    "for ind in arcs.index:\n",
    "    tempoList = []\n",
    "    # Modifications de la chaîne de caractères\n",
    "    tempoString = arcs.loc[ind]['lstpoints'].replace('[','')\n",
    "    tempoString = tempoString.replace(']','')\n",
    "    tempoString = tempoString.replace(' ','')\n",
    "    tempoList = tempoString.split(',')\n",
    "    \n",
    "    arcs.at[ind,'listePoints'] = tempoList\n",
    "    tempoList = []\n",
    "    # Récupération des valeurs de la liste en entiers\n",
    "    for pt in  arcs.at[ind,'listePoints'] :\n",
    "        tempoList.append(int(pt))\n",
    "\n",
    "    # Remplacer la liste de chaines par la liste d'entiers et remplir les autres colonnes\n",
    "    arcs.at[ind,'listePoints'] = tempoList\n",
    "    arcs.at[ind,'sommetDepart'] = int(arcs.loc[ind,'listePoints'][0])\n",
    "    arcs.at[ind,'sommetArrivee'] = int(arcs.loc[ind,'listePoints'][-1])\n",
    "\n",
    "\n",
    "# Changement de type\n",
    "arcs = arcs.astype({'sommetDepart': 'int64', 'sommetArrivee': 'int64'})\n",
    "  "
   ]
  },
  {
   "cell_type": "markdown",
   "id": "03f303bb-df87-40d9-90f4-93572f202eb2",
   "metadata": {},
   "source": [
    "## Mise en dataframe particulier pour les sommets que l'on garde"
   ]
  },
  {
   "cell_type": "code",
   "execution_count": 133,
   "id": "9568bdae-f88d-4f06-b381-eb224a5d733a",
   "metadata": {},
   "outputs": [],
   "source": [
    "# Création de la liste des sommets distincts\n",
    "listeSommets = []\n",
    "\n",
    "for ind in arcs.index:    \n",
    "    if arcs.loc[ind, 'sommetDepart'] not in listeSommets:\n",
    "        listeSommets.append(arcs.loc[ind, 'sommetDepart'])\n",
    "    if arcs.loc[ind, 'sommetArrivee'] not in listeSommets:\n",
    "        listeSommets.append(arcs.loc[ind, 'sommetArrivee'])\n",
    "\n",
    "# Import dans dataframe sommets\n",
    "sommets = pd.DataFrame(listeSommets, columns=['Sommet'])\n",
    "\n",
    "# Ajout d'un numéro par sommet et mise en index de cette variable\n",
    "NB_SOMMETS = len(listeSommets)\n",
    "numeroSommet = [i for i in range(NB_SOMMETS)]\n",
    "sommets['numeroSommets'] = numeroSommet\n",
    "sommets = sommets.set_index('Sommet')"
   ]
  },
  {
   "cell_type": "code",
   "execution_count": 134,
   "id": "746687b7-4687-4a9e-bd17-415b20cb29c6",
   "metadata": {},
   "outputs": [],
   "source": [
    "#########################################################\n",
    "# calcul de la distance entre deux points A et B dont  #\n",
    "# on connait la lattitude et la longitude               #\n",
    "#########################################################\n",
    "def distanceGPS(latA,latB,longA,longB):\n",
    "    # Conversions des latitudes en radians\n",
    "    ltA=latA/180*pi\n",
    "    ltB=latB/180*pi\n",
    "    loA=longA/180*pi\n",
    "    loB=longB/180*pi\n",
    "    # Rayon de la terre en mètres \n",
    "    RT = 6378137\n",
    "    # angle en radians entre les 2 points\n",
    "    S = acos(round(sin(ltA)*sin(ltB) + cos(ltA)*cos(ltB)*cos(abs(loB-loA)),14)) # 4 poids à 0 si on arrondi à 14\n",
    "    # distance entre les 2 points, comptée sur un arc de grand cercle\n",
    "    return S*RT"
   ]
  },
  {
   "cell_type": "code",
   "execution_count": 135,
   "id": "827be6a2-456b-4147-b5a1-4be34c316da3",
   "metadata": {},
   "outputs": [],
   "source": [
    "# Matrice d'adjascense\n",
    "matrice = [[0] * NB_SOMMETS for _ in range(NB_SOMMETS)]\n",
    "\n",
    "# Ajout des numéros des sommets\n",
    "for ind in arcs.index:\n",
    "    arcs.loc[ind, 'numeroSommetDepart'] = sommets.loc[arcs.loc[ind, 'sommetDepart'], 'numeroSommets']\n",
    "    arcs.loc[ind, 'numeroSommetArrivee'] = sommets.loc[arcs.loc[ind, 'sommetArrivee'], 'numeroSommets']\n",
    "\n",
    "# Changement du type \n",
    "arcs = arcs.astype({'numeroSommetDepart': 'int64', 'numeroSommetArrivee': 'int64'})\n",
    "\n",
    "# Génération de la matrice\n",
    "for ind in arcs.index:\n",
    "    matrice[arcs.loc[ind, 'numeroSommetDepart']][arcs.loc[ind, 'numeroSommetArrivee']] = 1\n",
    "    matrice[arcs.loc[ind, 'numeroSommetArrivee']][arcs.loc[ind, 'numeroSommetDepart']] = 1\n",
    "\n"
   ]
  },
  {
   "cell_type": "markdown",
   "id": "540e649f-42a0-4aa4-9511-8dbf804e3774",
   "metadata": {},
   "source": [
    "## Calcul des poids des arrêtes"
   ]
  },
  {
   "cell_type": "code",
   "execution_count": 136,
   "id": "a80e9f75-3e1d-4a71-95c3-e586dfb9a6ac",
   "metadata": {},
   "outputs": [],
   "source": [
    "# Ajout de lat et long à sommets\n",
    "sommets['lat'] = points['lat']\n",
    "sommets['lon'] = points['lon']\n",
    "\n",
    "# Calculer le poid\n",
    "for ind in arcs.index:\n",
    "    poid = 0\n",
    "    for i in range(len(arcs.loc[ind, 'listePoints']) - 1):\n",
    "        latA = points.loc[arcs.loc[ind, 'listePoints'][i], 'lat']\n",
    "        latB = points.loc[arcs.loc[ind, 'listePoints'][i + 1], 'lat']\n",
    "        lonA = points.loc[arcs.loc[ind, 'listePoints'][i], 'lon']\n",
    "        lonB = points.loc[arcs.loc[ind, 'listePoints'][i + 1], 'lon']\n",
    "        poid = poid + distanceGPS(latA, latB, lonA, lonB)\n",
    "    arcs.loc[ind, 'poid'] = poid\n",
    "\n",
    "arcs = arcs.astype({'poid': 'float64'})"
   ]
  },
  {
   "cell_type": "markdown",
   "id": "3b9f2090-5174-4fea-ac7e-c8b5a2b4145f",
   "metadata": {},
   "source": [
    "## Création chronométrée de matrice pondérée sous forme de liste de liste"
   ]
  },
  {
   "cell_type": "code",
   "execution_count": 137,
   "id": "3c21050a-d224-43c1-b3a6-a01626f6498a",
   "metadata": {},
   "outputs": [
    {
     "name": "stdout",
     "output_type": "stream",
     "text": [
      " Durée de création de la matrice pondérée en liste de listes est de :  0.11244229995645583\n"
     ]
    }
   ],
   "source": [
    "# Chronometrage\n",
    "deb = timeit.default_timer()\n",
    "\n",
    "# Matrice pondérée\n",
    "matricePonderee = [[0] * NB_SOMMETS for _ in range(NB_SOMMETS)]\n",
    "\n",
    "for ind in arcs.index:\n",
    "    matricePonderee[arcs.loc[ind, 'numeroSommetDepart']][arcs.loc[ind, 'numeroSommetArrivee']] = arcs.loc[ind, 'poid']\n",
    "    matricePonderee[arcs.loc[ind, 'numeroSommetArrivee']][arcs.loc[ind, 'numeroSommetDepart']] = arcs.loc[ind, 'poid']\n",
    "\n",
    "fin = timeit.default_timer()\n",
    "\n",
    "duréeListes = fin - deb\n",
    "print(\" Durée de création de la matrice pondérée en liste de listes est de : \", duréeListes)"
   ]
  },
  {
   "cell_type": "markdown",
   "id": "9ab5e70d-f5e0-41e4-b198-4e3c7b783c39",
   "metadata": {},
   "source": [
    "## Création chronométrée de matrice pondérée sous forme d'array numpy"
   ]
  },
  {
   "cell_type": "code",
   "execution_count": 138,
   "id": "c8aedd61-8e4a-4960-a57d-8c7cf4e0f14a",
   "metadata": {},
   "outputs": [
    {
     "name": "stdout",
     "output_type": "stream",
     "text": [
      " Durée de création de la matrice pondérée en array numpy :  0.08448820002377033\n"
     ]
    }
   ],
   "source": [
    "# Chronometrage\n",
    "deb = timeit.default_timer()\n",
    "\n",
    "# Matrice pondérée\n",
    "rows = len(matrice)\n",
    "cols = len(matrice)\n",
    "\n",
    "matricePondéréeArray = np.empty((rows, cols))\n",
    "\n",
    "for ind in arcs.index:\n",
    "    matricePondéréeArray[arcs.loc[ind, 'numeroSommetDepart']][arcs.loc[ind, 'numeroSommetArrivee']] = arcs.loc[ind, 'poid']\n",
    "    matricePondéréeArray[arcs.loc[ind, 'numeroSommetArrivee']][arcs.loc[ind, 'numeroSommetDepart']] = arcs.loc[ind, 'poid']\n",
    "\n",
    "fin = timeit.default_timer()\n",
    "\n",
    "duréeNumpy = fin - deb\n",
    "print(\" Durée de création de la matrice pondérée en array numpy : \", duréeNumpy)"
   ]
  },
  {
   "cell_type": "markdown",
   "id": "8b3602b8-187e-44e9-8d64-c6acc508a956",
   "metadata": {},
   "source": [
    "## Création chronométrée de matrice pondérée sous forme de dataFrame"
   ]
  },
  {
   "cell_type": "code",
   "execution_count": 139,
   "id": "bab20be2-ea61-4182-a806-be9cfeb1ede2",
   "metadata": {},
   "outputs": [
    {
     "name": "stdout",
     "output_type": "stream",
     "text": [
      " Durée de création de la matrice pondérée en dataFrame :  12.790377299999818\n"
     ]
    }
   ],
   "source": [
    "# Chronometrage\n",
    "deb = timeit.default_timer()\n",
    "\n",
    "# Définir la taille du DataFrame\n",
    "rows = len(matrice)\n",
    "cols = len(matrice)\n",
    "\n",
    "# Créer un DataFrame vide avec la taille prédéfinie\n",
    "matricePondéréeDf = pd.DataFrame(index=range(rows), columns=range(cols))\n",
    "\n",
    "# Remplir le dataframe\n",
    "matricePondéréeDf = matricePondéréeDf.fillna(float('inf'))\n",
    "\n",
    "# Matrice pondérée\n",
    "for ind in arcs.index:\n",
    "    matricePondéréeDf[arcs.loc[ind, 'numeroSommetDepart']][arcs.loc[ind, 'numeroSommetArrivee']] = arcs.loc[ind, 'poid']\n",
    "    matricePondéréeDf[arcs.loc[ind, 'numeroSommetArrivee']][arcs.loc[ind, 'numeroSommetDepart']] = arcs.loc[ind, 'poid']\n",
    "\n",
    "matricePondéréeDf.index = sommets.index\n",
    "matricePondéréeDf.columns = sommets.index\n",
    "\n",
    "fin = timeit.default_timer()\n",
    "\n",
    "duréeDf = fin - deb\n",
    "print(\" Durée de création de la matrice pondérée en dataFrame : \", duréeDf)"
   ]
  },
  {
   "cell_type": "markdown",
   "id": "61991ae0-c1f3-4ecc-9805-8d865cfced13",
   "metadata": {},
   "source": [
    "## Création du dictionnaire pondéré par identifiant de sommet"
   ]
  },
  {
   "cell_type": "code",
   "execution_count": 140,
   "id": "76b74954-9838-4150-8613-dadce94f133d",
   "metadata": {},
   "outputs": [],
   "source": [
    "# Dico pondéré par id\n",
    "\n",
    "dicoPondId = {}\n",
    "\n",
    "for ind in arcs.index:\n",
    "    if arcs.loc[ind, 'sommetDepart'] not in dicoPondId.keys():\n",
    "        dicoPondId[arcs.loc[ind, 'sommetDepart']] = {}\n",
    "    if arcs.loc[ind, 'sommetArrivee'] not in dicoPondId.keys():\n",
    "        dicoPondId[arcs.loc[ind, 'sommetArrivee']] = {}\n",
    "    dicoPondId[arcs.loc[ind, 'sommetDepart']][arcs.loc[ind, 'sommetArrivee']] = arcs.loc[ind, 'poid']\n",
    "    dicoPondId[arcs.loc[ind, 'sommetArrivee']][arcs.loc[ind, 'sommetDepart']] = arcs.loc[ind, 'poid']"
   ]
  },
  {
   "cell_type": "markdown",
   "id": "b30e4455-9038-40d2-a690-97160ba4836f",
   "metadata": {},
   "source": [
    "## Création du dictionnaire pondéré par numéro de sommet"
   ]
  },
  {
   "cell_type": "code",
   "execution_count": 141,
   "id": "5b19cf95-adf9-4464-b458-630fa3710a65",
   "metadata": {},
   "outputs": [],
   "source": [
    "# Dico pondéré par num\n",
    "\n",
    "dicoPondNum = {}\n",
    "\n",
    "for ind in arcs.index:\n",
    "    if arcs.loc[ind, 'numeroSommetDepart'] not in dicoPondNum.keys():\n",
    "        dicoPondNum[arcs.loc[ind, 'numeroSommetDepart']] = {}\n",
    "    if arcs.loc[ind, 'numeroSommetArrivee'] not in dicoPondNum.keys():\n",
    "        dicoPondNum[arcs.loc[ind, 'numeroSommetArrivee']] = {}\n",
    "    dicoPondNum[arcs.loc[ind, 'numeroSommetDepart']][arcs.loc[ind, 'numeroSommetArrivee']] = arcs.loc[ind, 'poid']\n",
    "    dicoPondNum[arcs.loc[ind, 'numeroSommetArrivee']][arcs.loc[ind, 'numeroSommetDepart']] = arcs.loc[ind, 'poid']\n"
   ]
  },
  {
   "cell_type": "markdown",
   "id": "304664f2-77d6-47af-834d-98ce47fe1a0d",
   "metadata": {},
   "source": [
    "## Et pour conclure ce notebook, quoi de mieux qu'un petit nettoyage de l'explorateur de variable :"
   ]
  },
  {
   "cell_type": "code",
   "execution_count": 142,
   "id": "d39d1b55-9971-4f11-8338-24ab66b6356b",
   "metadata": {},
   "outputs": [],
   "source": [
    "# Nettoyer le code\n",
    "del i\n",
    "del ind\n",
    "del latA\n",
    "del latB\n",
    "del lonA\n",
    "del lonB\n",
    "del poid\n",
    "del pt\n",
    "del tempoInt\n",
    "del tempoList\n",
    "del tempoString\n",
    "del rows\n",
    "del cols\n",
    "del deb\n",
    "del fin"
   ]
  },
  {
   "cell_type": "code",
   "execution_count": null,
   "id": "7d77271b-e5c0-490b-a187-6b847f4236f4",
   "metadata": {},
   "outputs": [],
   "source": []
  }
 ],
 "metadata": {
  "kernelspec": {
   "display_name": "Python 3 (Spyder)",
   "language": "python3",
   "name": "python3"
  },
  "language_info": {
   "codemirror_mode": {
    "name": "ipython",
    "version": 3
   },
   "file_extension": ".py",
   "mimetype": "text/x-python",
   "name": "python",
   "nbconvert_exporter": "python",
   "pygments_lexer": "ipython3",
<<<<<<< HEAD
   "version": "3.8.10"
=======
   "version": "3.10.9"
>>>>>>> ef76b422432f721430f058343ebe5eff13030e6a
  }
 },
 "nbformat": 4,
 "nbformat_minor": 5
}
