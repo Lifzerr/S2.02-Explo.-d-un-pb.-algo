{
 "cells": [
  {
   "cell_type": "markdown",
   "id": "86f7bc8a-9d03-4984-91c7-06d23e43ac03",
   "metadata": {},
   "source": [
    "# S2.02 - Notebook n°2\n",
    "\n",
    "## Partie 2 - Recherche de plus court chemin\n",
    "\n",
    "### BERHO Andoni\n",
    "### BOURCIEZ Maxime\n",
    "### TD II - TP 3\n",
    "\n",
    "#### Algorithmes de recherche des plus courts chemins"
   ]
  },
  {
   "cell_type": "markdown",
   "id": "2f08427a-c728-49ce-af6a-d9d088717dd9",
   "metadata": {},
   "source": [
    "# I - Importation des données"
   ]
  },
  {
   "cell_type": "code",
   "execution_count": 2,
   "id": "34b3421e-ca77-4d06-adfd-3e29bcfb4a5e",
   "metadata": {},
   "outputs": [],
   "source": [
    "import json\n",
    "import pandas as pd\n",
    "import numpy as np\n",
    "import os\n",
    "import time\n",
    "\n",
    "\n",
    "# os.chdir(\"C:\\\\IUT\\\\Semestre 2\\\\S2.02 - Explo algorithmique d'un problème\\\\partie2\") # Pc portable Maxime\n",
    "os.chdir(\"E:\\\\Cours\\\\Semestre2\\\\S2.02\\\\S2.02-Explo.-d-un-pb.-algo\\\\partie2\") # PC Home Maxime\n",
    "\n",
    "# import dicsucc.json et dicsuccdist.json (--> dictionnaire)\n",
    "with open(\"dicsucc.json\", \"r\") as fichier:\n",
    "    dicsucc = json.load(fichier)\n",
    "with open(\"dicsuccdist.json\", \"r\") as fichier:\n",
    "    dicsuccdist = json.load(fichier)\n",
    "\n",
    "# import aretes.csv (--> dataframe) et transformation de lstpoints (chaîne-->liste)\n",
    "aretes = pd.read_table('aretes.csv', sep  =';', index_col= 0)\n",
    "\n",
    "for ind in aretes.index :\n",
    "    ls = aretes.loc[ind,'lstpoints'].replace(\" \",\"\").replace(\"]\", \"\").replace(\"[\", \"\").split(',')\n",
    "    lst = []\n",
    "    for val in ls :\n",
    "        lst.append(int(val))\n",
    "    aretes.at[ind,'lstpoints'] = lst\n",
    "\n",
    "\n",
    "# import sommets.csv, matrice_poids.csv (--> dataframe)\n",
    "sommets = pd.read_table('sommets.csv', sep  =';', index_col= 0)\n",
    "matrice_poids = pd.read_csv('matrice_poids.csv', sep = ';', index_col = 0)\n",
    "sommets['indice'] = [i for i in range(len(sommets.index))]\n",
    "\n",
    "# transformation dataframe matrice des poids en tableau    \n",
    "tableau_poids = np.array(matrice_poids)\n",
    "\n",
    "# transformation matrice des poids en liste de listes\n",
    "liste_poids = [[None for j in range(len(tableau_poids))] for i in range(len(tableau_poids))]\n",
    "for i in range(len(tableau_poids)):\n",
    "    for j in range(len(tableau_poids)):\n",
    "        liste_poids[i][j]  = tableau_poids[i,j]\n",
    "\n",
    "\n",
    "del fichier, i, j, val, ls, lst, ind "
   ]
  },
  {
   "cell_type": "markdown",
   "id": "9420875e-d32b-4103-900b-74c8475a6c1b",
   "metadata": {},
   "source": [
    "# II - Fonctions nécessaires"
   ]
  },
  {
   "cell_type": "markdown",
   "id": "aa0924b0-44ad-4449-8ade-c1f95453ff6a",
   "metadata": {},
   "source": [
    "### A) Transformation du graphe "
   ]
  },
  {
   "cell_type": "code",
   "execution_count": 3,
   "id": "00c06c9f-996e-4a3e-8caa-e4018bbc548c",
   "metadata": {},
   "outputs": [],
   "source": [
    "def transformer_graphe(graphe):\n",
    "    \"\"\" Le graphe d'origine incluait des clés en string, et nous préférons par simplicité les transformer en entier.\n",
    "        De plus, les valeurs du dictionnaire d'origine étaient des listes de listes, et nous préférons, pour manipuler, des dictionnaires.\n",
    "        Cette fonction transforme le dictionnaire dans la forme que nous le voulons\"\"\"\n",
    "    nouveau_graphe = {}\n",
    "    # On itère sur les sommet (et leurs successeurs)\n",
    "    for sommet_str, voisins in graphe.items():\n",
    "        sommet_int = int(sommet_str)     # Transformation de la clé\n",
    "        nouveau_graphe[sommet_int] = {}  # Création du couple clé-valeur dans le nouveau dictionnaire\n",
    "        for voisin, poids in voisins:\n",
    "            nouveau_graphe[sommet_int][voisin] = poids  # Ajout dans le dictionnaire du voisins le poid de l'arc\n",
    "    return nouveau_graphe\n",
    "\n",
    "graphe_transforme = transformer_graphe(dicsuccdist)"
   ]
  },
  {
   "cell_type": "markdown",
   "id": "4771d03d-4863-4285-980b-32c25f067aff",
   "metadata": {},
   "source": [
    "### B) Reconstituer le chemin (pour Dijkstra & bellman)"
   ]
  },
  {
   "cell_type": "code",
   "execution_count": 4,
   "id": "1750891e-596e-4e06-9507-677f51912397",
   "metadata": {},
   "outputs": [],
   "source": [
    "def reconstituer(pred, dep, arr):\n",
    "    chemin = []\n",
    "    sommet = arr\n",
    "    while sommet != dep:\n",
    "        chemin.insert(0, sommet)\n",
    "        sommet = pred[sommet]\n",
    "    chemin.insert(0, dep)\n",
    "\n",
    "    return chemin"
   ]
  },
  {
   "cell_type": "markdown",
   "id": "c6bbcd47-746d-4709-a813-27ae834f9421",
   "metadata": {},
   "source": [
    "### C) Distance GPS"
   ]
  },
  {
   "cell_type": "code",
   "execution_count": 6,
   "id": "29d12e2a-b39b-4797-a2ed-92cc1d8be5f2",
   "metadata": {},
   "outputs": [],
   "source": [
    "import math\n",
    "from math import acos,asin,cos,sin,pi\n",
    "\n",
    "def distanceGPS(latA, latB, lonA, lonB):\n",
    "    pi = math.pi\n",
    "    sin = math.sin\n",
    "    cos = math.cos\n",
    "    acos = math.acos\n",
    "    \n",
    "    # Conversions des latitudes en radians\n",
    "    ltA = latA / 180 * pi\n",
    "    ltB = latB / 180 * pi\n",
    "    loA = lonA / 180 * pi\n",
    "    loB = lonB / 180 * pi\n",
    "    \n",
    "    # Rayon de la terre en mètres \n",
    "    RT = 6378137\n",
    "    \n",
    "    # angle en radians entre les 2 points\n",
    "    S = acos(round(sin(ltA) * sin(ltB) + cos(ltA) * cos(ltB) * cos(abs(loB - loA)), 14))\n",
    "    \n",
    "    # distance entre les 2 points, comptée sur un arc de grand cercle\n",
    "    return S * RT"
   ]
  },
  {
   "cell_type": "markdown",
   "id": "c48fcbc8-b653-4198-8e5c-4ae4b1e7602d",
   "metadata": {},
   "source": [
    "# IV - Algorithme de dijkstra"
   ]
  },
  {
   "cell_type": "code",
   "execution_count": 5,
   "id": "d6f74a2f-e7f1-4351-981e-b9233eb9f974",
   "metadata": {},
   "outputs": [
    {
     "name": "stdout",
     "output_type": "stream",
     "text": [
      "Temps d'exécution =  0.07706952095031738\n"
     ]
    }
   ],
   "source": [
    "def dijkstra(graphe, depart, arrivee):\n",
    "    # Initialisation\n",
    "    distances = {sommet: float('inf') for sommet in graphe}\n",
    "    distances[depart] = 0\n",
    "    predecesseurs = {}\n",
    "    non_traites = set(graphe.keys())\n",
    "\n",
    "    while non_traites:\n",
    "        # Sélectionner le sommet non traité avec la plus petite distance\n",
    "        sommet_courant = min(non_traites, key=lambda sommet: distances[sommet])\n",
    "        non_traites.remove(sommet_courant)\n",
    "\n",
    "        if sommet_courant == arrivee:\n",
    "            break  # On a trouvé le chemin le plus court\n",
    "\n",
    "        for voisin, poids in graphe[sommet_courant].items():  # On itère sur les voisins\n",
    "            # Calculer la nouvelle distance\n",
    "            nouvelle_distance = distances[sommet_courant] + poids\n",
    "\n",
    "            # Vérifier si la nouvele distance est meilleure\n",
    "            if nouvelle_distance < distances[voisin]:\n",
    "                distances[voisin] = nouvelle_distance\n",
    "                predecesseurs[voisin] = sommet_courant\n",
    "\n",
    "    # Reconstruction du chemin le plus court\n",
    "    return reconstituer(predecesseurs, depart, arrivee)\n",
    "\n",
    "    \n",
    "# Lancement du chrono\n",
    "startDijkstra = time.time()\n",
    "\n",
    "cheminDijkstra = dijkstra(graphe_transforme, 1806175538, 1801848709)\n",
    "\n",
    "endDijkstra = time.time()\n",
    "print(\"Temps d'exécution = \", endDijkstra - startDijkstra) "
   ]
  },
  {
   "cell_type": "markdown",
   "id": "35a7cc7e-535c-4062-aff0-50f555aa1281",
   "metadata": {},
   "source": [
    "# V - Algorithme de Belmann"
   ]
  },
  {
   "cell_type": "code",
   "execution_count": 14,
   "id": "837834f9-fc05-488b-9b66-0836294edcf6",
   "metadata": {},
   "outputs": [
    {
     "name": "stdout",
     "output_type": "stream",
     "text": [
      "Temps d'exécution =  2.5448720455169678\n"
     ]
    }
   ],
   "source": [
    "def bellman_ford(graphe, depart, arrivee):\n",
    "    # Initialisation\n",
    "    distances = {sommet: float('inf') for sommet in graphe}\n",
    "    distances[depart] = 0\n",
    "    predecesseurs = {}\n",
    "\n",
    "    # Nombre de sommets dans le graphe\n",
    "    nb_sommets = len(graphe)\n",
    "\n",
    "    # Relaxation des arêtes\n",
    "    for _ in range(nb_sommets - 1):\n",
    "        for sommet in graphe:\n",
    "            for voisin, poids in graphe[sommet].items():\n",
    "                if distances[sommet] + poids < distances[voisin]:\n",
    "                    distances[voisin] = distances[sommet] + poids\n",
    "                    predecesseurs[voisin] = sommet\n",
    "\n",
    "    # Détection de cycle négatif\n",
    "    for sommet in graphe:\n",
    "        for voisin, poids in graphe[sommet].items():\n",
    "            if distances[sommet] + poids < distances[voisin]:\n",
    "                return \"Cycle négatif détecté\"\n",
    "\n",
    "    # Reconstruction du chemin le plus court\n",
    "    return reconstituer(predecesseurs, depart, arrivee)\n",
    "\n",
    "# Lancement du chrono\n",
    "startDijkstra = time.time()\n",
    "\n",
    "cheminBellmanFord = bellman_ford(graphe_transforme, 1806175538, 1801848709)\n",
    "\n",
    "endDijkstra = time.time()\n",
    "print(\"Temps d'exécution = \", endDijkstra - startDijkstra) "
   ]
  },
  {
   "cell_type": "markdown",
   "id": "6dd0cd4e-6d0a-44fd-9bf4-69393141d7a2",
   "metadata": {},
   "source": [
    "# VI - Algorithme de Floyd-Warshall"
   ]
  },
  {
   "cell_type": "markdown",
   "id": "e8748d06-6701-4ad6-8c74-779f0a48c151",
   "metadata": {},
   "source": [
    "### A) Algorithme"
   ]
  },
  {
   "cell_type": "code",
   "execution_count": null,
   "id": "fb12bb68-82c5-4e06-9df2-2faddca9883c",
   "metadata": {},
   "outputs": [],
   "source": [
    "def floyd_warshall(matricePonderee):\n",
    "    taille = len(matricePonderee)\n",
    "    \n",
    "    # Remplissage de M0 et P0\n",
    "    M = np.array(matricePonderee)\n",
    "    P = np.full((taille, taille), -1, dtype=int)\n",
    "    \n",
    "    for i in range(taille):\n",
    "        for j in range(taille):\n",
    "            if M[i][j] != 0 and i != j:\n",
    "                P[i][j] = i\n",
    "            else:\n",
    "                P[i][j] = -1  # Utilisation de -1 pour indiquer aucun prédécesseur\n",
    "    start = time.time()\n",
    "    \n",
    "    # Début des itérations des lignes et colonnes\n",
    "    for k in range(taille):\n",
    "        for i in range(taille):\n",
    "            for j in range(i, taille):\n",
    "                # Relâchement\n",
    "                if M[i][k] + M[k][j] < M[i][j]:\n",
    "                    M[i][j] = M[i][k] + M[k][j]\n",
    "                    M[j][i] = M[i][k] + M[k][j]\n",
    "                    P[i][j] = P[k][j]\n",
    "        currentTime = time.time()\n",
    "        \n",
    "        print (\"étape \", k, \" terminée || temps : \", currentTime - start)\n",
    "    \n",
    "    return M, P\n",
    "                        \n",
    "(M, P) = floyd_warshall(matrice_poids)\n",
    "                \n",
    "# Sauvegarder M dans un fichier CSV\n",
    "np.savetxt(\"M_Floyd_Warshall.csv\", M, delimiter=\",\", fmt=\"%s\")\n",
    "\n",
    "# Sauvegarder P dans un fichier CSV\n",
    "np.savetxt(\"P-Floyd_Warshall.csv\", P, delimiter=\",\", fmt=\"%d\")"
   ]
  },
  {
   "cell_type": "markdown",
   "id": "8da68cf1-35c5-4bdf-b039-ee2776d28848",
   "metadata": {},
   "source": [
    "A sa seule et unique complétion, a mis 40 minutes à s'exécuter."
   ]
  },
  {
   "cell_type": "markdown",
   "id": "a9677d2d-8677-4853-91a0-fe5b9d2094e0",
   "metadata": {},
   "source": [
    "### B) Reconstitution du chemin"
   ]
  },
  {
   "cell_type": "code",
   "execution_count": null,
   "id": "cfc5a9d3-5745-48c0-9ab2-0efcc8ea8802",
   "metadata": {},
   "outputs": [],
   "source": [
    "# Importation des données\n",
    "M = pd.read_table('M_Floyd_Warshall.csv', sep=',', decimal='.')\n",
    "P = pd.read_table('P-Floyd_Warshall.csv', sep=',', decimal='.')\n",
    "\n",
    "# Appel de la fonction de reconstition\n",
    "def reconstituer_chemin(P, depart, arrivee):\n",
    "    \n",
    "    # Récupérer les indices des points \n",
    "    depart_index = sommets.loc[depart, 'indice']\n",
    "    arrivee_index = sommets.loc[arrivee, 'indice']\n",
    "\n",
    "    # Reconstitution du chemin\n",
    "    chemin = []\n",
    "    poids_total = 0\n",
    "    noeud = arrivee_index\n",
    "    while noeud != depart_index:\n",
    "        chemin.insert(0, noeud)\n",
    "        prochain_noeud = P.iloc[depart_index, noeud]\n",
    "        if prochain_noeud == -1:\n",
    "            return None  # Aucun chemin trouvé\n",
    "        poids_total += M.iloc[depart_index, noeud]\n",
    "        noeud = prochain_noeud\n",
    "    chemin.insert(0, depart_index)\n",
    "    \n",
    "    if chemin:\n",
    "        # Conversion des indices en valeurs réelles des sommets\n",
    "        chemin_indices = sommets.loc[chemin, 'indice'].tolist()\n",
    "        print(\"Chemin trouvé:\", chemin_indices)\n",
    "        print(\"Poids total du chemin:\", poids_total)\n",
    "    else:\n",
    "        print(\"Aucun chemin trouvé entre\", depart, \"et\", arrivee)\n",
    "        \n",
    "    return chemin, poids_total\n",
    "\n",
    "résultatFloyd = (reconstituer_chemin(P,1806175538, 1801848709))\n",
    "\n"
   ]
  },
  {
   "cell_type": "markdown",
   "id": "882645a3-1528-4c0d-bfab-e203a8dd377c",
   "metadata": {},
   "source": [
    "# VII - Algorithme A*"
   ]
  },
  {
   "cell_type": "code",
   "execution_count": 8,
   "id": "2e11ca3d-ca29-4165-b2c7-fa1b97472b75",
   "metadata": {},
   "outputs": [
    {
     "name": "stdout",
     "output_type": "stream",
     "text": [
      "Sommets par lesquels passe le chemin :  [1806175538, 1806175499, 1806175395, 3651250505, 6285616022, 5487073241, 7670962642, 5487073237, 7670962641, 6480663685, 7260687853, 1888303681, 1888303632, 1888303638, 1888303631, 6480663689, 6480663688, 6480663690, 7667113679, 1890041708, 6349193177, 2290806513, 5487050076, 255402681, 255402680, 388382259, 388382267, 255402703, 388382278, 388382282, 364414737, 1801848709] \n",
      " Poids du chemin :  20887.07041062554\n"
     ]
    }
   ],
   "source": [
    "def aetoile(graphe, depart, arrivee, sommets):\n",
    "    # Récupérer les coordonnées de la destination\n",
    "    latB = sommets.loc[arrivee, 'lat']\n",
    "    lonB = sommets.loc[arrivee, 'lon']\n",
    "    \n",
    "    def heuristique(sommet):\n",
    "        return distanceGPS(sommets.loc[sommet, 'lat'], latB, sommets.loc[sommet, 'lon'], lonB)\n",
    "    \n",
    "    # Initialisation des distances et des prédécesseurs\n",
    "    g_score = {sommet: float('inf') for sommet in graphe}\n",
    "    g_score[depart] = 0\n",
    "    \n",
    "    f_score = {sommet: float('inf') for sommet in graphe}\n",
    "    f_score[depart] = heuristique(depart)\n",
    "    \n",
    "    open_set = {depart}\n",
    "    came_from = {}\n",
    "    distanceChemin = 0\n",
    "    \n",
    "    while open_set:\n",
    "        # Sélectionner le sommet non traité avec le plus petit f_score\n",
    "        sommet_courant = min(open_set, key=lambda sommet: f_score[sommet])\n",
    "        \n",
    "        if sommet_courant == arrivee:\n",
    "            chemin = []\n",
    "            sommet = arrivee\n",
    "            while sommet != depart:\n",
    "                chemin.append(sommet)\n",
    "                sommet = came_from.get(sommet)\n",
    "                distanceChemin += f_score[sommet]\n",
    "                if sommet is None:\n",
    "                    return []  # Return empty if there is no valid path\n",
    "            chemin.append(depart)\n",
    "            chemin.reverse()\n",
    "            return (chemin, distanceChemin)\n",
    "        \n",
    "        open_set.remove(sommet_courant)\n",
    "        \n",
    "        for voisin, poids in graphe[sommet_courant].items():\n",
    "            tentative_g_score = g_score[sommet_courant] + poids\n",
    "            \n",
    "            if tentative_g_score < g_score[voisin]:\n",
    "                came_from[voisin] = sommet_courant\n",
    "                g_score[voisin] = tentative_g_score\n",
    "                f_score[voisin] = g_score[voisin] + heuristique(voisin)\n",
    "                if voisin not in open_set:\n",
    "                    open_set.add(voisin)\n",
    "    \n",
    "    return None\n",
    "\n",
    "chemin = aetoile(graphe_transforme, 1806175538, 1801848709, sommets)\n",
    "print(\"Sommets par lesquels passe le chemin : \", chemin[0], \"\\n\",\n",
    "      \"Poids du chemin : \", chemin[1])"
   ]
  },
  {
   "cell_type": "code",
   "execution_count": null,
   "id": "b79aaba4-4dae-4603-bc35-2d1340ef97ef",
   "metadata": {},
   "outputs": [],
   "source": []
  }
 ],
 "metadata": {
  "kernelspec": {
   "display_name": "Python 3 (Spyder)",
   "language": "python3",
   "name": "python3"
  },
  "language_info": {
   "codemirror_mode": {
    "name": "ipython",
    "version": 3
   },
   "file_extension": ".py",
   "mimetype": "text/x-python",
   "name": "python",
   "nbconvert_exporter": "python",
   "pygments_lexer": "ipython3",
   "version": "3.11.7"
  }
 },
 "nbformat": 4,
 "nbformat_minor": 5
}
