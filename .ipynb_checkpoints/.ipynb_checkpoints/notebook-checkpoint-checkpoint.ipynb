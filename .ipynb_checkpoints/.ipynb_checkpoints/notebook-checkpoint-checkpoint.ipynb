{
 "cells": [
  {
   "cell_type": "markdown",
   "id": "ff54a69c-b512-4f7d-8544-0950fb16d1bd",
   "metadata": {},
   "source": [
    "# S2.02 - Exploration algorithmique d'un problème\n",
    "\n",
    "### BERHO Andoni\n",
    "### BOURCIEZ Maxime\n",
    "### TEXEIRA Jonathan\n",
    "### TD II - TP 3\n",
    "\n",
    "## Chemins piétons dans Bayonne"
   ]
  },
  {
   "cell_type": "markdown",
   "id": "008a9588-7da0-451e-b479-55356afec710",
   "metadata": {},
   "source": [
    "\n",
    "\n",
    "\n",
    "\n",
    "## Importation des données\n"
   ]
  },
  {
   "cell_type": "code",
   "execution_count": 2,
   "id": "7000c4a5-21e8-4f6c-867f-364a11af82af",
   "metadata": {},
   "outputs": [],
   "source": [
    "import pandas as pd\n",
    "import os\n",
    "import matplotlib.pypilot as plt\n",
    "\n",
    "os.chdir(\"C:\\\\IUT\\\\Semestre 2\\\\S2.02 - Explo algorithmique d'un problème\") # Pc Portable Maxime\n",
    "\n",
    "# Importation des données\n",
    "points = pd.read_table('points.csv', sep = \";\", decimal = \".\", encoding = 'ANSI')\n",
    "arcs = pd.read_table('arcs.csv', sep = ';',  encoding = 'ANSI')\n"
   ]
  },
  {
   "cell_type": "markdown",
   "id": "a0d1d137-3098-4122-a29e-342dd5fa20e9",
   "metadata": {},
   "source": [
    "#### On cherche à utiliser uniquement les sommets reliés par des arcs afin d'éliminer les sommets superflus afin d'en diminuer au maximum la quantité. Pour cela, nous allons créer un dataframe sommet contenant uniquement les sommets contenus dans les listes caractérisant les arcs, caractérisés par leur id et leurs coordonnées."
   ]
  },
  {
   "cell_type": "markdown",
   "id": "8c0e05fe-5315-4a26-81a1-67e6cdd1003c",
   "metadata": {},
   "source": [
    "##### Fonction de calcul de la distance entre 2 points"
   ]
  },
  {
   "cell_type": "code",
   "execution_count": 3,
   "id": "90a026a2-97dd-4c8a-92f4-446fb37c5783",
   "metadata": {},
   "outputs": [],
   "source": [
    "def distanceGPS(latA, latB, longA, longB):\n",
    "    # Conversion des latitudes \n",
    "    ltA = latA/180*plt.pi\n",
    "    ltB = latB/180*plt.pi\n",
    "    loA = longA/180*plt.pi\n",
    "    loB = longB/180*plt.pi\n",
    "\n",
    "    # Rayon de la terre\n",
    "    RT = 6378137\n",
    "\n",
    "    # Angle entre les 2 points (radians)\n",
    "    S = plt.acos(round(sin(ltA)*sin(ltB) + cos(ltA)*cos(ltB)*cos(abs(loB-loA)),14))\n",
    "\n",
    "    # Distance entre les 2 points\n",
    "    return S*RT"
   ]
  },
  {
   "cell_type": "code",
   "execution_count": 7,
   "id": "51a42ffb-9280-4326-a887-92b9d9f0e95d",
   "metadata": {},
   "outputs": [],
   "source": [
    "def listeSomUniques():\n",
    "    serieResult = set()\n",
    "    \n",
    "    for i in arcs['lstpoints']:\n",
    "        for j in i:\n",
    "            if j not in serieResult:\n",
    "                serieResult.add(j)\n",
    "    return serieResult"
   ]
  },
  {
   "cell_type": "code",
   "execution_count": 8,
   "id": "6820b68e-21a8-4506-8a6b-cfc25dd1ec52",
   "metadata": {},
   "outputs": [
    {
     "data": {
      "text/plain": [
       "{' ', ',', '0', '1', '2', '3', '4', '5', '6', '7', '8', '9', '[', ']'}"
      ]
     },
     "execution_count": 8,
     "metadata": {},
     "output_type": "execute_result"
    }
   ],
   "source": [
    "listeSomUniques()"
   ]
  },
  {
   "cell_type": "code",
   "execution_count": 14,
   "id": "86a83d2a-1ad2-47b7-a10a-bfec1c331e61",
   "metadata": {},
   "outputs": [
    {
     "ename": "AttributeError",
     "evalue": "'Series' object has no attribute 'eval'",
     "output_type": "error",
     "traceback": [
      "Traceback \u001b[1;36m(most recent call last)\u001b[0m:\n",
      "\u001b[0m  Cell \u001b[0;32mIn[14], line 3\u001b[0m\n    arcs[\"lstpoints\"] = arcs[\"lstpoints\"].eval()\u001b[0m\n",
      "\u001b[1;36m  File \u001b[1;32mC:\\Program Files\\Spyder\\pkgs\\pandas\\core\\generic.py:5989\u001b[1;36m in \u001b[1;35m__getattr__\u001b[1;36m\n\u001b[1;33m    return object.__getattribute__(self, name)\u001b[1;36m\n",
      "\u001b[1;31mAttributeError\u001b[0m\u001b[1;31m:\u001b[0m 'Series' object has no attribute 'eval'\n"
     ]
    }
   ],
   "source": [
    "sommets = set()\n",
    "\n",
    "for row in arcs:\n",
    "    if row[\"lstpoints\"][0] not in sommets[\"sommet\"]:\n",
    "        sommets[\"sommet\"].add(row[\"lstpoints\"][0])\n",
    "    #if row[\"lstpoints\"][len(row[\"lstpoints\"]) - 1] not in sommets[\"sommet\"]:\n",
    "        #sommets[\"sommet\"].add(row[\"lstpoints\"][len(row[\"lstpoints\"]) - 1])"
   ]
  },
  {
   "cell_type": "code",
   "execution_count": null,
   "id": "3e22bd16-f5a9-4306-b7b8-9d1698fb4d56",
   "metadata": {},
   "outputs": [],
   "source": []
  }
 ],
 "metadata": {
  "kernelspec": {
   "display_name": "Python 3 (Spyder)",
   "language": "python3",
   "name": "python3"
  },
  "language_info": {
   "codemirror_mode": {
    "name": "ipython",
    "version": 3
   },
   "file_extension": ".py",
   "mimetype": "text/x-python",
   "name": "python",
   "nbconvert_exporter": "python",
   "pygments_lexer": "ipython3",
   "version": "3.8.10"
  }
 },
 "nbformat": 4,
 "nbformat_minor": 5
}
